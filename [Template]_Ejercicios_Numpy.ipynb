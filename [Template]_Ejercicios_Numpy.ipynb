{
 "cells": [
  {
   "cell_type": "markdown",
   "metadata": {
    "id": "FSct6HmD9721"
   },
   "source": [
    "# Ejercicios Numpy\n",
    "**Nombre:** Roberto Cruz Lozano.\n",
    "\n",
    "**Expediente:** 278788"
   ]
  },
  {
   "cell_type": "markdown",
   "metadata": {
    "id": "ri2xF9sj-QDQ"
   },
   "source": [
    "Realiza los ejecicios que se indican en este notebook para practicar tu uso de numpy"
   ]
  },
  {
   "cell_type": "code",
   "execution_count": 1,
   "metadata": {},
   "outputs": [],
   "source": [
    "import numpy as np"
   ]
  },
  {
   "cell_type": "markdown",
   "metadata": {
    "id": "W0cItnrG-emA"
   },
   "source": [
    "**Ejercicios**\n",
    "\n",
    "1.   Crea un arreglo con los siguientes valores: `10, 15, 20, 25, 30, 35, 40`\n",
    "\n",
    "\n",
    "\n",
    "\n",
    "\n",
    "\n",
    "\n",
    "\n"
   ]
  },
  {
   "cell_type": "code",
   "execution_count": 2,
   "metadata": {
    "id": "BjVzx8Mm-AOp"
   },
   "outputs": [
    {
     "data": {
      "text/plain": [
       "array([10, 15, 20, 25, 30, 35, 40])"
      ]
     },
     "execution_count": 2,
     "metadata": {},
     "output_type": "execute_result"
    }
   ],
   "source": [
    "arr = np.arange(10, 41, 5)\n",
    "arr"
   ]
  },
  {
   "cell_type": "markdown",
   "metadata": {
    "id": "L5-rHNl---RY"
   },
   "source": [
    "2.   Crea un arreglo que contenga los valores: `1,4,9,6,3` en una 3da dimension\n",
    "\n",
    "\n",
    "\n"
   ]
  },
  {
   "cell_type": "code",
   "execution_count": 3,
   "metadata": {
    "id": "xnOWPzIiSmh3"
   },
   "outputs": [
    {
     "data": {
      "text/plain": [
       "(1, 3, 5)"
      ]
     },
     "execution_count": 3,
     "metadata": {},
     "output_type": "execute_result"
    }
   ],
   "source": [
    "arr = np.array([[[1, 4, 9, 6, 3], [1, 4, 9, 6, 3], [1, 4, 9, 6, 3]]])\n",
    "arr.shape"
   ]
  },
  {
   "cell_type": "markdown",
   "metadata": {
    "id": "G5Abpk79Sni5"
   },
   "source": [
    "\n",
    "\n",
    "3.   Verifica por medio de codigo que el arreglo escrito en el ejercicio anterior corresponda a una 3ra dimension.\n",
    "\n"
   ]
  },
  {
   "cell_type": "code",
   "execution_count": 4,
   "metadata": {
    "id": "pn52_FpjT6U2"
   },
   "outputs": [
    {
     "name": "stdout",
     "output_type": "stream",
     "text": [
      "(1, 3, 5)\n"
     ]
    }
   ],
   "source": [
    "print(arr.shape)"
   ]
  },
  {
   "cell_type": "markdown",
   "metadata": {
    "id": "0LcVUduGT8vn"
   },
   "source": [
    "4.   Accede e imprime el 5to elemento del siguiente arreglo  \n",
    "```\n",
    "arreglo = np.array([1,6,9,3,4,6,8,5,10,23,5,4])\n",
    "```\n",
    "(Deberas crear el arreglo y ejecutarlo)\n",
    "\n"
   ]
  },
  {
   "cell_type": "code",
   "execution_count": 5,
   "metadata": {
    "id": "QoB_uklAUdsG"
   },
   "outputs": [
    {
     "name": "stdout",
     "output_type": "stream",
     "text": [
      "4\n"
     ]
    }
   ],
   "source": [
    "arreglo = np.array([1, 6, 9, 3, 4, 6, 8, 5, 10, 23, 5, 4])\n",
    "print(arreglo[4])"
   ]
  },
  {
   "cell_type": "markdown",
   "metadata": {
    "id": "DasiHWeSUke5"
   },
   "source": [
    "5.   Como puedes imprimir el numero 23 del arreglo\n",
    "```\n",
    "arreglo = np.array([1,6,9,3,4,6,8,5,10,23,5,4])\n",
    "```\n",
    "\n",
    "\n"
   ]
  },
  {
   "cell_type": "code",
   "execution_count": 6,
   "metadata": {
    "id": "H5e3HL6-VJJH"
   },
   "outputs": [
    {
     "name": "stdout",
     "output_type": "stream",
     "text": [
      "23\n"
     ]
    }
   ],
   "source": [
    "print(arreglo[-3])"
   ]
  },
  {
   "cell_type": "markdown",
   "metadata": {
    "id": "wdyETR6AVJxR"
   },
   "source": [
    "6.   Como puedes imprimir el numero 23 del arreglo\n",
    "```\n",
    "arreglo = np.array([[1,6,9,3,4,6],[8,5,10,23,5,4]])\n",
    "```\n",
    "(Deberas crear el arreglo y ejecutarlo)\n"
   ]
  },
  {
   "cell_type": "code",
   "execution_count": 7,
   "metadata": {
    "id": "CGnJm0TMV1pW"
   },
   "outputs": [
    {
     "name": "stdout",
     "output_type": "stream",
     "text": [
      "23\n"
     ]
    }
   ],
   "source": [
    "arreglo = np.array([[1, 6, 9, 3, 4, 6], [8, 5, 10, 23, 5, 4]])\n",
    "print(arreglo[1][-3])"
   ]
  },
  {
   "cell_type": "markdown",
   "metadata": {
    "id": "QbdWdr6QWDUw"
   },
   "source": [
    "7.   Como puedes imprimir el ultimo elemento del arreglo\n",
    "```\n",
    "arreglo = np.array([1,6,9,3,4,6,8,5,10,23,5,4])\n",
    "```"
   ]
  },
  {
   "cell_type": "code",
   "execution_count": 8,
   "metadata": {
    "id": "fTv11eVeWOim"
   },
   "outputs": [
    {
     "name": "stdout",
     "output_type": "stream",
     "text": [
      "4\n"
     ]
    }
   ],
   "source": [
    "arreglo = np.array([1, 6, 9, 3, 4, 6, 8, 5, 10, 23, 5, 4])\n",
    "print(arreglo[-1])"
   ]
  },
  {
   "cell_type": "markdown",
   "metadata": {
    "id": "gi-imrZ9WuB_"
   },
   "source": [
    "8.   Genera un nuevo arreglo a partir del que se muestra, en el que incluyas los elementos de la posicion 3 (incluyendolo, hasta la posicion 9 (sin incluirla)\n",
    "```\n",
    "arreglo = np.array([1,6,9,3,4,6,8,5,10,23,5,4])\n",
    "```"
   ]
  },
  {
   "cell_type": "code",
   "execution_count": 9,
   "metadata": {
    "id": "BGh3BOrQXgjm"
   },
   "outputs": [
    {
     "data": {
      "text/plain": [
       "array([ 3,  4,  6,  8,  5, 10])"
      ]
     },
     "execution_count": 9,
     "metadata": {},
     "output_type": "execute_result"
    }
   ],
   "source": [
    "arreglo = np.array([1, 6, 9, 3, 4, 6, 8, 5, 10, 23, 5, 4])\n",
    "arr = arreglo[3:9]\n",
    "arr"
   ]
  },
  {
   "cell_type": "markdown",
   "metadata": {
    "id": "b6YozgulYw4D"
   },
   "source": [
    "9. Genera un nuevo arreglo a partir del siguiente, con cada 2do elemento del arreglo\n",
    "```\n",
    "arreglo = np.array([1,6,9,3,4,6,8,5,10,23,5,4])\n",
    "```"
   ]
  },
  {
   "cell_type": "code",
   "execution_count": 10,
   "metadata": {
    "id": "cEsaiVpSaM-H"
   },
   "outputs": [
    {
     "data": {
      "text/plain": [
       "array([ 6,  3,  6,  5, 23,  4])"
      ]
     },
     "execution_count": 10,
     "metadata": {},
     "output_type": "execute_result"
    }
   ],
   "source": [
    "arreglo = np.array([1, 6, 9, 3, 4, 6, 8, 5, 10, 23, 5, 4])\n",
    "arr = arreglo[1::2]\n",
    "arr"
   ]
  },
  {
   "cell_type": "markdown",
   "metadata": {
    "id": "_7lZzbv2bFyC"
   },
   "source": [
    "10. Muestra el tipo de los datos contenidos en el siguiente arreglo:\n",
    "\n",
    "\n",
    "```\n",
    "arreglo = np.array([6,2,3,9,4])\n",
    "```\n",
    "\n"
   ]
  },
  {
   "cell_type": "code",
   "execution_count": 11,
   "metadata": {
    "id": "QmyW87Rnbf7X"
   },
   "outputs": [
    {
     "name": "stdout",
     "output_type": "stream",
     "text": [
      "int32\n"
     ]
    }
   ],
   "source": [
    "arreglo = np.array([6, 2, 3, 9, 4])\n",
    "print(arreglo.dtype)"
   ]
  },
  {
   "cell_type": "markdown",
   "metadata": {
    "id": "jo4D0L7nbgha"
   },
   "source": [
    "11. Especifica desde la declaracion del arreglo que el tipo de dato para que sea String\n",
    "```\n",
    "arreglo = np.array([6,2,3,9,4])\n",
    "```"
   ]
  },
  {
   "cell_type": "code",
   "execution_count": 12,
   "metadata": {
    "id": "Sif5AIsFeIlp"
   },
   "outputs": [
    {
     "data": {
      "text/plain": [
       "array(['6', '2', '3', '9', '4'], dtype='<U1')"
      ]
     },
     "execution_count": 12,
     "metadata": {},
     "output_type": "execute_result"
    }
   ],
   "source": [
    "arreglo = np.array([6, 2, 3, 9, 4], dtype = 'str')\n",
    "arreglo"
   ]
  },
  {
   "cell_type": "markdown",
   "metadata": {
    "id": "tMgi98B6eJiJ"
   },
   "source": [
    "12. Declara el siguiente arreglo y posteriormente indica que sea de tipo `integer`\n",
    "\n",
    "```\n",
    "arreglo = np.array([6.3,2.5,3.0,9.1,4.9])\n",
    "```"
   ]
  },
  {
   "cell_type": "code",
   "execution_count": 13,
   "metadata": {
    "id": "DsaxYQTxed6X"
   },
   "outputs": [
    {
     "data": {
      "text/plain": [
       "array([6, 2, 3, 9, 4])"
      ]
     },
     "execution_count": 13,
     "metadata": {},
     "output_type": "execute_result"
    }
   ],
   "source": [
    "arreglo = np.array([6.3, 2.5, 3.0, 9.1, 4.9], dtype = 'int32')\n",
    "arreglo"
   ]
  },
  {
   "cell_type": "markdown",
   "metadata": {
    "id": "NWHHFvHeeff5"
   },
   "source": [
    "12. Redacta la diferencia entre copiar un arrego con el comando copy() y el comando view()\n",
    "¿Que ventaja crees que tiene view()?"
   ]
  },
  {
   "cell_type": "markdown",
   "metadata": {
    "id": "YNvYaBeZgEu3"
   },
   "source": [
    "---\n",
    "**Ambos `copy()` y `view()` se utilizan para copiar datos y luego realizar operaciones en ellos.**\n",
    "- La única diferencia entre estas dos funciones es que la función `copy()` creará una matriz NumPy separada (si realiza algún cambio en esta matriz copiada, no afectará la matriz original y viceversa ). Pero, con la función `view()`, no habrá una matriz NumPy separada y si realiza algún cambio en esta nueva matriz, afectará a la matriz original y viceversa .\n",
    "---"
   ]
  },
  {
   "cell_type": "markdown",
   "metadata": {
    "id": "OORCjevUgG5P"
   },
   "source": [
    "13. Indica cuantos elementos tiene el siguiente arreglo:\n",
    "\n",
    "```\n",
    "arreglo = np.array([1,6,9,3,4,6,8,5,10,23,5,4])\n",
    "```"
   ]
  },
  {
   "cell_type": "code",
   "execution_count": 14,
   "metadata": {
    "id": "aeWshCZ_gD81"
   },
   "outputs": [
    {
     "name": "stdout",
     "output_type": "stream",
     "text": [
      "12\n"
     ]
    }
   ],
   "source": [
    "arreglo = np.array([1, 6, 9, 3, 4, 6, 8, 5, 10, 23, 5, 4])\n",
    "print(arreglo.size)"
   ]
  },
  {
   "cell_type": "markdown",
   "metadata": {
    "id": "R_S_CuP8iGzs"
   },
   "source": [
    "14. Indica cuantos elementos tiene el siguiente arreglo:\n",
    "```\n",
    "arreglo = np.array([[1,6,9,3,4,6],[8,5,10,23,5,4]])\n",
    "```"
   ]
  },
  {
   "cell_type": "code",
   "execution_count": 15,
   "metadata": {
    "id": "2xZuYHqbiQSG"
   },
   "outputs": [
    {
     "name": "stdout",
     "output_type": "stream",
     "text": [
      "12\n"
     ]
    }
   ],
   "source": [
    "arreglo = np.array([[1, 6, 9, 3, 4, 6], [8, 5, 10, 23, 5, 4]])\n",
    "print(arreglo.size)"
   ]
  },
  {
   "cell_type": "markdown",
   "metadata": {
    "id": "wWveH7o_ichP"
   },
   "source": [
    "14. Redimensiona el siguiente arreglo de 1-D a 2-D con 3 subarreglos y que contengan 4 elementos en cada segmento:\n",
    "\n",
    "```\n",
    "arreglo = np.array([1,6,9,3,4,6,8,5,10,23,5,4])\n",
    "```"
   ]
  },
  {
   "cell_type": "code",
   "execution_count": 16,
   "metadata": {
    "id": "dUvS5B5hjbb1"
   },
   "outputs": [
    {
     "name": "stdout",
     "output_type": "stream",
     "text": [
      "[[ 1  6  9  3]\n",
      " [ 4  6  8  5]\n",
      " [10 23  5  4]]\n"
     ]
    }
   ],
   "source": [
    "arreglo = np.array([1, 6, 9, 3, 4, 6, 8, 5, 10, 23, 5, 4])\n",
    "print(arreglo.reshape(3, 4))"
   ]
  },
  {
   "cell_type": "markdown",
   "metadata": {
    "id": "JV6s9fsRkNCO"
   },
   "source": [
    "15. Redimensiona el siguiente arreglo de 2-D a 1-D:\n",
    "\n",
    "```\n",
    "arreglo = np.array([[1,6,9,3,4,6],[8,5,10,23,5,4]])\n",
    "```"
   ]
  },
  {
   "cell_type": "code",
   "execution_count": 17,
   "metadata": {
    "id": "DBGhXv2ckssr"
   },
   "outputs": [
    {
     "name": "stdout",
     "output_type": "stream",
     "text": [
      "[ 1  6  9  3  4  6  8  5 10 23  5  4]\n"
     ]
    }
   ],
   "source": [
    "arreglo = np.array([[1, 6, 9, 3, 4, 6], [8, 5, 10, 23, 5, 4]])\n",
    "print(arreglo.flatten())"
   ]
  }
 ],
 "metadata": {
  "colab": {
   "name": "[Template] Ejercicios_Numpy.ipynb",
   "provenance": []
  },
  "kernelspec": {
   "display_name": "Python 3 (ipykernel)",
   "language": "python",
   "name": "python3"
  },
  "language_info": {
   "codemirror_mode": {
    "name": "ipython",
    "version": 3
   },
   "file_extension": ".py",
   "mimetype": "text/x-python",
   "name": "python",
   "nbconvert_exporter": "python",
   "pygments_lexer": "ipython3",
   "version": "3.10.4"
  }
 },
 "nbformat": 4,
 "nbformat_minor": 1
}
