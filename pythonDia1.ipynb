{
 "cells": [
  {
   "cell_type": "markdown",
   "id": "f1ce75f7",
   "metadata": {},
   "source": [
    "# Python Día 1\n",
    "---\n",
    "## *Introducción a Python*\n",
    "---"
   ]
  },
  {
   "cell_type": "markdown",
   "id": "081ed708",
   "metadata": {},
   "source": [
    "## - Hola mundo con Python."
   ]
  },
  {
   "cell_type": "code",
   "execution_count": 1,
   "id": "3cc922f7",
   "metadata": {},
   "outputs": [
    {
     "name": "stdout",
     "output_type": "stream",
     "text": [
      "Hola mundo!\n"
     ]
    }
   ],
   "source": [
    "print('Hola mundo!')"
   ]
  },
  {
   "cell_type": "markdown",
   "id": "3e419b9e",
   "metadata": {},
   "source": [
    "---\n",
    "## - Tipos de datos."
   ]
  },
  {
   "cell_type": "code",
   "execution_count": 2,
   "id": "0ccc3693",
   "metadata": {},
   "outputs": [
    {
     "name": "stdout",
     "output_type": "stream",
     "text": [
      "<class 'int'>\n",
      "<class 'float'>\n",
      "<class 'str'>\n",
      "<class 'bool'>\n",
      "<class 'list'>\n",
      "<class 'tuple'>\n",
      "<class 'dict'>\n"
     ]
    }
   ],
   "source": [
    "print(str(type(1)))\n",
    "print(str(type(1.0)))\n",
    "print(str(type('Hola')))\n",
    "print(str(type(True)))\n",
    "print(str(type([])))\n",
    "print(str(type(())))\n",
    "print(str(type({})))"
   ]
  },
  {
   "cell_type": "markdown",
   "id": "fdd4faf9",
   "metadata": {},
   "source": [
    "---\n",
    "## - Operadores Aritméticos."
   ]
  },
  {
   "cell_type": "code",
   "execution_count": 3,
   "id": "e8c73c99",
   "metadata": {},
   "outputs": [
    {
     "name": "stdout",
     "output_type": "stream",
     "text": [
      "Suma: 5\n",
      "Resta: -1\n",
      "Multiplicación: 6\n",
      "Potencia: 8\n",
      "División: 0.6666666666666666\n",
      "División de piso: 0\n",
      "Módulo: 2\n"
     ]
    }
   ],
   "source": [
    "print(f'Suma: {2 + 3}')\n",
    "print(f'Resta: {2 - 3}')\n",
    "print(f'Multiplicación: {2 * 3}')\n",
    "print(f'Potencia: {2 ** 3}')\n",
    "print(f'División: {2 / 3}')\n",
    "print(f'División de piso: {2 // 3}')\n",
    "print(f'Módulo: {2 % 3}')"
   ]
  },
  {
   "cell_type": "markdown",
   "id": "63586a52",
   "metadata": {},
   "source": [
    "---\n",
    "## - Operadores Booleanos, Lógicos y Relacionales."
   ]
  },
  {
   "cell_type": "code",
   "execution_count": 4,
   "id": "c50304a8",
   "metadata": {},
   "outputs": [
    {
     "name": "stdout",
     "output_type": "stream",
     "text": [
      "and : False\n",
      "or : True\n",
      "not : True\n",
      "== : False\n",
      "!= : True\n",
      "< : False\n",
      "<= : True\n",
      "> : False\n",
      ">= : True\n",
      "in : True\n"
     ]
    }
   ],
   "source": [
    "print(f'and : {True and False}')\n",
    "print(f'or : {True or False}')\n",
    "print(f'not : {not False}')\n",
    "print(f'== : {True == False}')\n",
    "print(f'!= : {True != False}')\n",
    "print(f'< : {3 < 2}')\n",
    "print(f'<= : {3 <= 3}')\n",
    "print(f'> : {3 > 3}')\n",
    "print(f'>= : {3 >= 3}')\n",
    "print(f'in : {\"a\" in \"Hola\"}')"
   ]
  },
  {
   "cell_type": "markdown",
   "id": "6d1400b4",
   "metadata": {},
   "source": [
    "---\n",
    "## - Variables: \n",
    "1. Se recomienda nombrar variables con nomenclatura en forma de \"serpiente\" y haciendo referencia a lo que va a guardar."
   ]
  },
  {
   "cell_type": "code",
   "execution_count": 5,
   "id": "234e9271",
   "metadata": {},
   "outputs": [
    {
     "name": "stdout",
     "output_type": "stream",
     "text": [
      "Nomenclatura en forma de \"serpiente\" o separado por guiones bajos: variable_en_serpiente\n"
     ]
    }
   ],
   "source": [
    "variable_en_serpiente = 'variable_en_serpiente'\n",
    "print(f'Nomenclatura en forma de \"serpiente\" o separado por guiones bajos: {variable_en_serpiente}')"
   ]
  },
  {
   "cell_type": "markdown",
   "id": "3e669998",
   "metadata": {},
   "source": [
    "---\n",
    "## - Arreglos."
   ]
  },
  {
   "cell_type": "code",
   "execution_count": 6,
   "id": "2e4e5a04",
   "metadata": {},
   "outputs": [
    {
     "name": "stdout",
     "output_type": "stream",
     "text": [
      "[0, 0.1, '2', [3], (4), {5:'Hola'}] = <class 'list'>\n",
      "(0, 0.1, '2', [3], (4), {5:'Hola'}) = <class 'tuple'>\n",
      "[0, 0.1, '2', [3], 4, {5: 'Hola'}]\n",
      "{5: 'Hola'}\n",
      "[0, 0.1, '2', [3], 4, {5: 'Hola'}, 'Nuevo!']\n",
      "[0, 0.1, '2', [3], 4, {5: 'Hola'}]\n",
      "6\n"
     ]
    }
   ],
   "source": [
    "print('[0, 0.1, \\'2\\', [3], (4), {5:\\'Hola\\'}]' + ' = ' + str(type([0, 0.1, '2', [3], (4), {5:'Hola'}])))\n",
    "print('(0, 0.1, \\'2\\', [3], (4), {5:\\'Hola\\'})' + ' = ' + str(type((0, 0.1, '2', [3], (4), {5:'Hola'}))))\n",
    "\n",
    "# Definición.\n",
    "arreglo = [0, 0.1, '2', [3], (4), {5:'Hola'}]\n",
    "print(arreglo)\n",
    "\n",
    "# Indexación.\n",
    "print(arreglo[5])\n",
    "\n",
    "# Asignación.\n",
    "arreglo.append('Nuevo!')\n",
    "print(arreglo)\n",
    "\n",
    "# Eliminar índice.\n",
    "arreglo.pop(-1)\n",
    "print(arreglo)\n",
    "\n",
    "# Obtener longitud.\n",
    "print(len(arreglo))"
   ]
  },
  {
   "cell_type": "markdown",
   "id": "bd649b72",
   "metadata": {},
   "source": [
    "---\n",
    "## - Estructura de control lógica: if-else."
   ]
  },
  {
   "cell_type": "code",
   "execution_count": 7,
   "id": "65b1824d",
   "metadata": {},
   "outputs": [
    {
     "name": "stdout",
     "output_type": "stream",
     "text": [
      "ELSE\n"
     ]
    }
   ],
   "source": [
    "num1 = 10\n",
    "num2 = 5\n",
    "if num1 == num2:\n",
    "    print('IF')\n",
    "elif num1 < num2:\n",
    "    print('ELIF')\n",
    "else:\n",
    "    print('ELSE')"
   ]
  },
  {
   "cell_type": "markdown",
   "id": "4beab401",
   "metadata": {},
   "source": [
    "---\n",
    "## - Estructura de control lógica: match (switch)."
   ]
  },
  {
   "cell_type": "code",
   "execution_count": 8,
   "id": "9d306481",
   "metadata": {},
   "outputs": [
    {
     "name": "stdout",
     "output_type": "stream",
     "text": [
      "thing is not 1, 2 or 3\n"
     ]
    }
   ],
   "source": [
    "thing = 'a'\n",
    "match thing:\n",
    "    case 1:\n",
    "        print(\"thing is 1\")\n",
    "    case 2:\n",
    "        print(\"thing is 2\")\n",
    "    case 3:\n",
    "        print(\"thing is 3\")\n",
    "    case _:\n",
    "        print(\"thing is not 1, 2 or 3\")"
   ]
  },
  {
   "cell_type": "markdown",
   "id": "25d68f4b",
   "metadata": {},
   "source": [
    "---\n",
    "## - Estructura cíclica: for."
   ]
  },
  {
   "cell_type": "code",
   "execution_count": 9,
   "id": "56b16933",
   "metadata": {},
   "outputs": [
    {
     "name": "stdout",
     "output_type": "stream",
     "text": [
      "2, 4, 6, 8, \n",
      "1 2.0 Tres False "
     ]
    }
   ],
   "source": [
    "for i in range(2,10,2):\n",
    "    print(f'{i}, ', end = '')\n",
    "print()\n",
    "\n",
    "lista = [1, 2.0, 'Tres', False]\n",
    "for i in lista:\n",
    "    print(f'{i} ', end = '')"
   ]
  },
  {
   "cell_type": "markdown",
   "id": "da9a91ee",
   "metadata": {},
   "source": [
    "---\n",
    "## - Estructura cíclica: while."
   ]
  },
  {
   "cell_type": "code",
   "execution_count": 10,
   "id": "05bf7a37",
   "metadata": {},
   "outputs": [
    {
     "name": "stdout",
     "output_type": "stream",
     "text": [
      "False\n",
      "1 / 2 / 3 / 4 / 5 / 6 / 7 / 8 / 9 / 10 / "
     ]
    }
   ],
   "source": [
    "bandera = True\n",
    "while bandera:\n",
    "    if bandera == True:\n",
    "        bandera = False\n",
    "        print(bandera)\n",
    "\n",
    "bandera = 0\n",
    "while bandera != 10:\n",
    "    bandera += 1\n",
    "    print(f'{bandera} / ', end = '')"
   ]
  },
  {
   "cell_type": "markdown",
   "id": "ef3fbb2d",
   "metadata": {},
   "source": [
    "---\n",
    "## - Funciones."
   ]
  },
  {
   "cell_type": "code",
   "execution_count": 11,
   "id": "3a7151d4",
   "metadata": {},
   "outputs": [
    {
     "name": "stdout",
     "output_type": "stream",
     "text": [
      "1. Función sin parámetros y sin retorno.\n",
      "2. Función con parámetros y sin retorno.\n",
      "3. Función sin parámetros y con retorno.\n",
      "4. Función con parámetros y con retorno.\n"
     ]
    }
   ],
   "source": [
    "def funcionUno():\n",
    "    print('1. Función sin parámetros y sin retorno.')\n",
    "funcionUno()\n",
    "\n",
    "def funcionDos(param1):\n",
    "    print(f'2. Función {param1} y sin retorno.')\n",
    "funcionDos('con parámetros')\n",
    "\n",
    "def funcionTres():\n",
    "    return '3. Función sin parámetros y con retorno.'\n",
    "print(funcionTres())\n",
    "\n",
    "def funcionCuatro(param1):\n",
    "    return f'4. Función {param1} y con retorno.'\n",
    "print(funcionCuatro('con parámetros'))"
   ]
  },
  {
   "cell_type": "markdown",
   "id": "643a9c94",
   "metadata": {},
   "source": [
    "---"
   ]
  }
 ],
 "metadata": {
  "kernelspec": {
   "display_name": "Python 3 (ipykernel)",
   "language": "python",
   "name": "python3"
  },
  "language_info": {
   "codemirror_mode": {
    "name": "ipython",
    "version": 3
   },
   "file_extension": ".py",
   "mimetype": "text/x-python",
   "name": "python",
   "nbconvert_exporter": "python",
   "pygments_lexer": "ipython3",
   "version": "3.10.4"
  }
 },
 "nbformat": 4,
 "nbformat_minor": 5
}
