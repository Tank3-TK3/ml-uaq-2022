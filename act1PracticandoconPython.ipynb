{
 "cells": [
  {
   "cell_type": "markdown",
   "id": "1ac0ef91",
   "metadata": {},
   "source": [
    "# Actividad 1 - Practicando con Python\n",
    "---\n",
    "## Deberás realizar las siguientes actividades empleando un notebook:\n",
    "- Crea una función que determine si un número es primo."
   ]
  },
  {
   "cell_type": "code",
   "execution_count": 1,
   "id": "c370a3d4",
   "metadata": {},
   "outputs": [
    {
     "name": "stdout",
     "output_type": "stream",
     "text": [
      "True\n"
     ]
    }
   ],
   "source": [
    "def primo(num):\n",
    "    for i in range(2, num):\n",
    "        if num % i == 0:\n",
    "            return False\n",
    "    return True\n",
    "print(primo(997))"
   ]
  },
  {
   "cell_type": "markdown",
   "id": "a13adf80",
   "metadata": {},
   "source": [
    "- Crea una función que retorne el factorial de un número."
   ]
  },
  {
   "cell_type": "code",
   "execution_count": 2,
   "id": "1c455d97",
   "metadata": {},
   "outputs": [
    {
     "name": "stdout",
     "output_type": "stream",
     "text": [
      "2432902008176640000\n"
     ]
    }
   ],
   "source": [
    "def factorial(num):\n",
    "    fact = 1\n",
    "    for i in range(1, num + 1):\n",
    "        fact = fact * i\n",
    "    return fact\n",
    "print(factorial(20))"
   ]
  },
  {
   "cell_type": "markdown",
   "id": "27243186",
   "metadata": {},
   "source": [
    "- Crea una función que indique si un texto dado es palíndromo."
   ]
  },
  {
   "cell_type": "code",
   "execution_count": 3,
   "id": "8767cb77",
   "metadata": {},
   "outputs": [
    {
     "name": "stdout",
     "output_type": "stream",
     "text": [
      "True\n"
     ]
    }
   ],
   "source": [
    "def palindromo(palabra):\n",
    "    palabra = palabra.lower()\n",
    "    palabra = palabra.replace(' ', '')\n",
    "    return palabra == palabra[::-1]\n",
    "print(palindromo('Satan oscillate my metallic sonatas'))"
   ]
  },
  {
   "cell_type": "markdown",
   "id": "7a3c36ad",
   "metadata": {},
   "source": [
    "- Crea una función que imprima la tabla de multiplicar de un número y retorne los valores en un arreglo."
   ]
  },
  {
   "cell_type": "code",
   "execution_count": 4,
   "id": "2531ca35",
   "metadata": {},
   "outputs": [
    {
     "name": "stdout",
     "output_type": "stream",
     "text": [
      "[9, 18, 27, 36, 45, 54, 63, 72, 81, 90]\n"
     ]
    }
   ],
   "source": [
    "def tabla_multiplicar(num):\n",
    "    return [num * x for x in range(1, 11)]\n",
    "print(tabla_multiplicar(9))"
   ]
  },
  {
   "cell_type": "markdown",
   "id": "55f1b1c6",
   "metadata": {},
   "source": [
    "- Crea una función que reciba un texto e indique cuantas letras tiene (sin usar el método len)."
   ]
  },
  {
   "cell_type": "code",
   "execution_count": 5,
   "id": "7255464c",
   "metadata": {},
   "outputs": [
    {
     "name": "stdout",
     "output_type": "stream",
     "text": [
      "10\n"
     ]
    }
   ],
   "source": [
    "def longitud_texto(texto):\n",
    "    texto = texto.replace(' ', '')\n",
    "    return list(enumerate(texto))[-1][0] + 1\n",
    "print(longitud_texto('Hola mundo!'))"
   ]
  },
  {
   "cell_type": "markdown",
   "id": "a48882aa",
   "metadata": {},
   "source": [
    "- Crea una función que retorne una colección con las palabras de un texto."
   ]
  },
  {
   "cell_type": "code",
   "execution_count": 6,
   "id": "ca429875",
   "metadata": {},
   "outputs": [
    {
     "name": "stdout",
     "output_type": "stream",
     "text": [
      "['yo', 'soy', 'robert']\n"
     ]
    }
   ],
   "source": [
    "def lista_de_palabras(texto):\n",
    "    return texto.split(' ')\n",
    "print(lista_de_palabras('yo soy robert'))"
   ]
  },
  {
   "cell_type": "markdown",
   "id": "8bf3a908",
   "metadata": {},
   "source": [
    "- Crea una función que reciba una colección de nombres y que retorne una colección de esos mismos nombres sin que se repitan y sin importar el orden en el que estaban."
   ]
  },
  {
   "cell_type": "code",
   "execution_count": 7,
   "id": "0b08943d",
   "metadata": {},
   "outputs": [
    {
     "name": "stdout",
     "output_type": "stream",
     "text": [
      "{'Roberto', 'Sergio', 'Martin', 'Jorge'}\n"
     ]
    }
   ],
   "source": [
    "def coleccion_nombres(nombres):\n",
    "    return set(nombres)\n",
    "print(coleccion_nombres(['Roberto', 'Jorge', 'Martin', 'Sergio', 'Martin', 'Roberto', 'Jorge', 'Martin', 'Sergio', 'Martin']))"
   ]
  }
 ],
 "metadata": {
  "kernelspec": {
   "display_name": "Python 3 (ipykernel)",
   "language": "python",
   "name": "python3"
  },
  "language_info": {
   "codemirror_mode": {
    "name": "ipython",
    "version": 3
   },
   "file_extension": ".py",
   "mimetype": "text/x-python",
   "name": "python",
   "nbconvert_exporter": "python",
   "pygments_lexer": "ipython3",
   "version": "3.10.4"
  }
 },
 "nbformat": 4,
 "nbformat_minor": 5
}
